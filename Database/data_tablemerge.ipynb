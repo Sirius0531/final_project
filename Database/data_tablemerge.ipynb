{
  "cells": [
    {
      "cell_type": "code",
      "execution_count": 1,
      "metadata": {
        "colab": {
          "base_uri": "https://localhost:8080/"
        },
        "id": "oBs7i5MhIvRe",
        "outputId": "845601ef-2c7b-41e1-a546-f547510c1142"
      },
      "outputs": [
        {
          "output_type": "stream",
          "name": "stdout",
          "text": [
            "Get:1 http://security.ubuntu.com/ubuntu bionic-security InRelease [88.7 kB]\n",
            "Hit:2 http://archive.ubuntu.com/ubuntu bionic InRelease\n",
            "Get:3 https://cloud.r-project.org/bin/linux/ubuntu bionic-cran40/ InRelease [3,626 B]\n",
            "Get:4 http://archive.ubuntu.com/ubuntu bionic-updates InRelease [88.7 kB]\n",
            "Ign:5 https://developer.download.nvidia.com/compute/cuda/repos/ubuntu1804/x86_64  InRelease\n",
            "Ign:6 https://developer.download.nvidia.com/compute/machine-learning/repos/ubuntu1804/x86_64  InRelease\n",
            "Get:7 https://developer.download.nvidia.com/compute/cuda/repos/ubuntu1804/x86_64  Release [696 B]\n",
            "Get:8 http://archive.ubuntu.com/ubuntu bionic-backports InRelease [74.6 kB]\n",
            "Hit:9 https://developer.download.nvidia.com/compute/machine-learning/repos/ubuntu1804/x86_64  Release\n",
            "Get:10 https://developer.download.nvidia.com/compute/cuda/repos/ubuntu1804/x86_64  Release.gpg [836 B]\n",
            "Get:11 http://ppa.launchpad.net/c2d4u.team/c2d4u4.0+/ubuntu bionic InRelease [15.9 kB]\n",
            "Hit:12 http://ppa.launchpad.net/cran/libgit2/ubuntu bionic InRelease\n",
            "Get:13 http://ppa.launchpad.net/deadsnakes/ppa/ubuntu bionic InRelease [15.9 kB]\n",
            "Get:14 http://security.ubuntu.com/ubuntu bionic-security/main amd64 Packages [2,660 kB]\n",
            "Hit:15 http://ppa.launchpad.net/graphics-drivers/ppa/ubuntu bionic InRelease\n",
            "Get:16 http://security.ubuntu.com/ubuntu bionic-security/universe amd64 Packages [1,484 kB]\n",
            "Get:17 http://archive.ubuntu.com/ubuntu bionic-updates/main amd64 Packages [3,098 kB]\n",
            "Get:18 http://archive.ubuntu.com/ubuntu bionic-updates/multiverse amd64 Packages [29.8 kB]\n",
            "Get:19 http://archive.ubuntu.com/ubuntu bionic-updates/universe amd64 Packages [2,262 kB]\n",
            "Get:21 https://developer.download.nvidia.com/compute/cuda/repos/ubuntu1804/x86_64  Packages [945 kB]\n",
            "Get:22 http://ppa.launchpad.net/c2d4u.team/c2d4u4.0+/ubuntu bionic/main amd64 Packages [937 kB]\n",
            "Get:23 http://ppa.launchpad.net/deadsnakes/ppa/ubuntu bionic/main amd64 Packages [45.3 kB]\n",
            "Fetched 11.7 MB in 4s (3,348 kB/s)\n",
            "Reading package lists... Done\n"
          ]
        }
      ],
      "source": [
        "import os\n",
        "# Find the latest version of spark 3.0 from http://www.apache.org/dist/spark/ and enter as the spark version\n",
        "# For example:\n",
        "# spark_version = 'spark-3.0.3'\n",
        "spark_version = 'spark-3.0.3'\n",
        "os.environ['SPARK_VERSION']=spark_version\n",
        "\n",
        "# Install Spark and Java\n",
        "!apt-get update\n",
        "!apt-get install openjdk-11-jdk-headless -qq > /dev/null\n",
        "!wget -q http://www.apache.org/dist/spark/$SPARK_VERSION/$SPARK_VERSION-bin-hadoop2.7.tgz\n",
        "!tar xf $SPARK_VERSION-bin-hadoop2.7.tgz\n",
        "!pip install -q findspark\n",
        "\n",
        "# Set Environment Variables\n",
        "import os\n",
        "os.environ[\"JAVA_HOME\"] = \"/usr/lib/jvm/java-11-openjdk-amd64\"\n",
        "os.environ[\"SPARK_HOME\"] = f\"/content/{spark_version}-bin-hadoop2.7\"\n",
        "\n",
        "# Start a SparkSession\n",
        "import findspark\n",
        "findspark.init()"
      ]
    },
    {
      "cell_type": "code",
      "execution_count": 2,
      "metadata": {
        "colab": {
          "base_uri": "https://localhost:8080/"
        },
        "id": "EeJUFKDfJFSH",
        "outputId": "d8fea0a6-3129-4737-fb70-fd9d1953d153"
      },
      "outputs": [
        {
          "output_type": "stream",
          "name": "stdout",
          "text": [
            "--2022-03-26 16:23:41--  https://jdbc.postgresql.org/download/postgresql-42.2.16.jar\n",
            "Resolving jdbc.postgresql.org (jdbc.postgresql.org)... 72.32.157.228, 2001:4800:3e1:1::228\n",
            "Connecting to jdbc.postgresql.org (jdbc.postgresql.org)|72.32.157.228|:443... connected.\n",
            "HTTP request sent, awaiting response... 200 OK\n",
            "Length: 1002883 (979K) [application/java-archive]\n",
            "Saving to: ‘postgresql-42.2.16.jar’\n",
            "\n",
            "postgresql-42.2.16. 100%[===================>] 979.38K  --.-KB/s    in 0.1s    \n",
            "\n",
            "2022-03-26 16:23:41 (6.49 MB/s) - ‘postgresql-42.2.16.jar’ saved [1002883/1002883]\n",
            "\n"
          ]
        }
      ],
      "source": [
        "# Download the Postgres driver that will allow Spark to interact with Postgres.\n",
        "!wget https://jdbc.postgresql.org/download/postgresql-42.2.16.jar"
      ]
    },
    {
      "cell_type": "code",
      "execution_count": 3,
      "metadata": {
        "id": "4qmJd3i-JJjf"
      },
      "outputs": [],
      "source": [
        "from pyspark.sql import SparkSession\n",
        "spark = SparkSession.builder.appName(\"CloudETL\").config(\"spark.driver.extraClassPath\",\"/content/postgresql-42.2.16.jar\").getOrCreate()\n"
      ]
    },
    {
      "cell_type": "code",
      "execution_count": 4,
      "metadata": {
        "id": "WL9ypBD_JUfI"
      },
      "outputs": [],
      "source": [
        "# Read in data from S3 Buckets\n",
        "from pyspark import SparkFiles\n",
        "url =\"https://data-finalproject.s3.amazonaws.com/ID_rawdata.csv\"\n",
        "spark.sparkContext.addFile(url)\n",
        "df = spark.read.csv(SparkFiles.get(\"\"), sep=\",\", header=True, inferSchema=True)"
      ]
    },
    {
      "cell_type": "code",
      "execution_count": 5,
      "metadata": {
        "colab": {
          "base_uri": "https://localhost:8080/"
        },
        "id": "c55GUhxWJokr",
        "outputId": "be56bf74-4d93-4cd5-cef2-eb0adc6aca6b"
      },
      "outputs": [
        {
          "output_type": "stream",
          "name": "stdout",
          "text": [
            "+--------+---------------+---------+-----+--------------------+-----------------------+-----------------+-----------------+--------------+---+----------+---------------+-------+------+------------+------+-----+---------+--------------+----------------+----------------+----------+------------+----------+----------+----------------+----------+-------------+----+---------+\n",
            "|      ID|      timestamp|  company|level|               title|totalyearlycompensation|         location|yearsofexperience|yearsatcompany|tag|basesalary|stockgrantvalue|  bonus|gender|otherdetails|cityid|dmaid|rowNumber|Masters_Degree|Bachelors_Degree|Doctorate_Degree|Highschool|Some_College|Race_Asian|Race_White|Race_Two_Or_More|Race_Black|Race_Hispanic|Race|Education|\n",
            "+--------+---------------+---------+-----+--------------------+-----------------------+-----------------+-----------------+--------------+---+----------+---------------+-------+------+------------+------+-----+---------+--------------+----------------+----------------+----------+------------+----------+----------+----------------+----------+-------------+----+---------+\n",
            "|FLP00001| 6/7/2017 11:33|   Oracle|   L3|     Product Manager|                 127000| Redwood City, CA|              1.5|           1.5| NA|    107000|        20000.0|10000.0|    NA|          NA|  7392|  807|        1|             0|               0|               0|         0|           0|         0|         0|               0|         0|            0|  NA|       NA|\n",
            "|FLP00002|6/10/2017 17:11|     eBay| SE 2|   Software Engineer|                 100000|San Francisco, CA|              5.0|           3.0| NA|         0|            0.0|    0.0|    NA|          NA|  7419|  807|        2|             0|               0|               0|         0|           0|         0|         0|               0|         0|            0|  NA|       NA|\n",
            "|FLP00003|6/11/2017 14:53|   Amazon|   L7|     Product Manager|                 310000|      Seattle, WA|              8.0|           0.0| NA|    155000|            0.0|    0.0|    NA|          NA| 11527|  819|        3|             0|               0|               0|         0|           0|         0|         0|               0|         0|            0|  NA|       NA|\n",
            "|FLP00004| 6/17/2017 0:23|    Apple|   M1|Software Engineer...|                 372000|    Sunnyvale, CA|              7.0|           5.0| NA|    157000|       180000.0|35000.0|    NA|          NA|  7472|  807|        7|             0|               0|               0|         0|           0|         0|         0|               0|         0|            0|  NA|       NA|\n",
            "|FLP00005|6/20/2017 10:58|Microsoft|   60|   Software Engineer|                 157000|Mountain View, CA|              5.0|           3.0| NA|         0|            0.0|    0.0|    NA|          NA|  7322|  807|        9|             0|               0|               0|         0|           0|         0|         0|               0|         0|            0|  NA|       NA|\n",
            "+--------+---------------+---------+-----+--------------------+-----------------------+-----------------+-----------------+--------------+---+----------+---------------+-------+------+------------+------+-----+---------+--------------+----------------+----------------+----------+------------+----------+----------+----------------+----------+-------------+----+---------+\n",
            "only showing top 5 rows\n",
            "\n"
          ]
        }
      ],
      "source": [
        "df.show(5)"
      ]
    },
    {
      "cell_type": "code",
      "execution_count": 6,
      "metadata": {
        "colab": {
          "base_uri": "https://localhost:8080/"
        },
        "id": "zewsDaHdMw2u",
        "outputId": "37c7cbe5-68a0-4882-ad11-660534247de4"
      },
      "outputs": [
        {
          "output_type": "execute_result",
          "data": {
            "text/plain": [
              "['ID',\n",
              " 'timestamp',\n",
              " 'company',\n",
              " 'level',\n",
              " 'title',\n",
              " 'totalyearlycompensation',\n",
              " 'location',\n",
              " 'yearsofexperience',\n",
              " 'yearsatcompany',\n",
              " 'tag',\n",
              " 'basesalary',\n",
              " 'stockgrantvalue',\n",
              " 'bonus',\n",
              " 'gender',\n",
              " 'otherdetails',\n",
              " 'cityid',\n",
              " 'dmaid',\n",
              " 'rowNumber',\n",
              " 'Masters_Degree',\n",
              " 'Bachelors_Degree',\n",
              " 'Doctorate_Degree',\n",
              " 'Highschool',\n",
              " 'Some_College',\n",
              " 'Race_Asian',\n",
              " 'Race_White',\n",
              " 'Race_Two_Or_More',\n",
              " 'Race_Black',\n",
              " 'Race_Hispanic',\n",
              " 'Race',\n",
              " 'Education']"
            ]
          },
          "metadata": {},
          "execution_count": 6
        }
      ],
      "source": [
        "df.columns"
      ]
    },
    {
      "cell_type": "code",
      "execution_count": 7,
      "metadata": {
        "colab": {
          "base_uri": "https://localhost:8080/"
        },
        "id": "dTRMufKEJu9y",
        "outputId": "7f964644-1c75-4b5c-f5c3-9211d3fe79f0"
      },
      "outputs": [
        {
          "output_type": "stream",
          "name": "stdout",
          "text": [
            "+--------+-----------------+-----------------------+-----------------+--------------+----------+---------------+---------+\n",
            "|      ID|            title|totalyearlycompensation|yearsofexperience|yearsatcompany|basesalary|stockgrantvalue|    bonus|\n",
            "+--------+-----------------+-----------------------+-----------------+--------------+----------+---------------+---------+\n",
            "|FLP00639|Software Engineer|                 125000|              6.0|           3.0|    125000|            0.0|1000000.0|\n",
            "|FLP01034|Software Engineer|                 130000|              2.0|           4.0|    130000|            0.0|      0.0|\n",
            "|FLP01242|  Product Manager|                 150000|              4.0|           4.0|    125000|        10000.0|  15000.0|\n",
            "|FLP01700|Software Engineer|                 180000|              4.0|           4.0|         0|            0.0|      0.0|\n",
            "|FLP01737|Software Engineer|                 215000|              6.0|           5.0|         0|            0.0|      0.0|\n",
            "+--------+-----------------+-----------------------+-----------------+--------------+----------+---------------+---------+\n",
            "only showing top 5 rows\n",
            "\n"
          ]
        }
      ],
      "source": [
        "salary_info_df = df.select(['ID','title', 'totalyearlycompensation','yearsofexperience','yearsatcompany','basesalary','stockgrantvalue','bonus']).drop_duplicates()\n",
        "salary_info_df.show(5)"
      ]
    },
    {
      "cell_type": "code",
      "execution_count": 8,
      "metadata": {
        "colab": {
          "base_uri": "https://localhost:8080/"
        },
        "id": "CfM_VCkvOhb1",
        "outputId": "23f1cbb3-4648-4529-d234-188e069254d5"
      },
      "outputs": [
        {
          "output_type": "stream",
          "name": "stdout",
          "text": [
            "+--------+----------+-----------------+------+\n",
            "|      ID|   company|         location|cityid|\n",
            "+--------+----------+-----------------+------+\n",
            "|FLP00256|    Google|Mountain View, CA|  7322|\n",
            "|FLP00496|  Facebook|      Seattle, WA| 11527|\n",
            "|FLP00590|Salesforce|San Francisco, CA|  7419|\n",
            "|FLP01020|     Intel|  Santa Clara, CA|  7434|\n",
            "|FLP01608|      eBay|     San Jose, CA|  7422|\n",
            "+--------+----------+-----------------+------+\n",
            "only showing top 5 rows\n",
            "\n"
          ]
        }
      ],
      "source": [
        "Company_info_df = df.select(['ID','company', 'location','cityid']).drop_duplicates()\n",
        "Company_info_df.show(5)"
      ]
    },
    {
      "cell_type": "code",
      "execution_count": 11,
      "metadata": {
        "colab": {
          "base_uri": "https://localhost:8080/"
        },
        "id": "RsAbOqC6PM6U",
        "outputId": "e7268690-9f34-4b20-b4f3-b7bafe3e7c51"
      },
      "outputs": [
        {
          "output_type": "stream",
          "name": "stdout",
          "text": [
            "+--------+-----------------+--------------+------+--------------+----------------+----------------+----------+\n",
            "|      ID|yearsofexperience|yearsatcompany|gender|Masters_Degree|Bachelors_Degree|Doctorate_Degree|Highschool|\n",
            "+--------+-----------------+--------------+------+--------------+----------------+----------------+----------+\n",
            "|FLP00548|             15.0|           1.0|  Male|             0|               0|               0|         0|\n",
            "|FLP00600|              4.0|           0.1|  Male|             0|               0|               0|         0|\n",
            "|FLP00964|              3.0|           1.0|    NA|             0|               0|               0|         0|\n",
            "|FLP01003|             11.0|           6.0|    NA|             0|               0|               0|         0|\n",
            "|FLP01066|              2.0|           2.0|    NA|             0|               0|               0|         0|\n",
            "+--------+-----------------+--------------+------+--------------+----------------+----------------+----------+\n",
            "only showing top 5 rows\n",
            "\n"
          ]
        }
      ],
      "source": [
        "Employee_info_df = df.select(['ID', 'yearsofexperience','yearsatcompany','gender','Masters_Degree','Bachelors_Degree','Doctorate_Degree','Highschool']).drop_duplicates()\n",
        "Employee_info_df.show(5)"
      ]
    },
    {
      "cell_type": "code",
      "execution_count": null,
      "metadata": {
        "colab": {
          "base_uri": "https://localhost:8080/"
        },
        "id": "WOOziEMYPjyF",
        "outputId": "29b82561-75e9-4a65-b873-e035d9a61108"
      },
      "outputs": [
        {
          "name": "stdout",
          "output_type": "stream",
          "text": [
            "+--------------+-----+-------------+-----------------------+\n",
            "|         title|state|         city|totalyearlycompensation|\n",
            "+--------------+-----+-------------+-----------------------+\n",
            "|Data Scientist|   CA|    San Ramon|                 142000|\n",
            "|Data Scientist|   CA|    Sunnyvale|                 130000|\n",
            "|Data Scientist|   WA|      Redmond|                 320000|\n",
            "|Data Scientist|   NY|     New York|                 284000|\n",
            "|Data Scientist|   CA|San Francisco|                 285000|\n",
            "+--------------+-----+-------------+-----------------------+\n",
            "only showing top 5 rows\n",
            "\n"
          ]
        }
      ],
      "source": [
        "# salary_by_location_df = df.select(['title', 'state', 'city', 'totalyearlycompensation']).drop_duplicates()\n",
        "# salary_by_location_df.show(5)"
      ]
    },
    {
      "cell_type": "code",
      "execution_count": null,
      "metadata": {
        "colab": {
          "base_uri": "https://localhost:8080/"
        },
        "id": "-cy6bw67Jvoa",
        "outputId": "e28c4b74-167f-4847-eab0-c3c914dc383a"
      },
      "outputs": [
        {
          "name": "stdout",
          "output_type": "stream",
          "text": [
            "+--------------+--------------+----------------+-----------------------+\n",
            "|         title|Masters_Degree|Bachelors_Degree|totalyearlycompensation|\n",
            "+--------------+--------------+----------------+-----------------------+\n",
            "|Data Scientist|             0|               0|                 235000|\n",
            "|Data Scientist|             0|               0|                 325000|\n",
            "|Data Scientist|             0|               0|                 141000|\n",
            "|Data Scientist|             1|               0|                 108000|\n",
            "|Data Scientist|             1|               0|                 390000|\n",
            "+--------------+--------------+----------------+-----------------------+\n",
            "only showing top 5 rows\n",
            "\n"
          ]
        }
      ],
      "source": [
        "# salary_by_education_df = df.select(['title', 'Masters_Degree', 'Bachelors_Degree', 'totalyearlycompensation']).drop_duplicates()\n",
        "# salary_by_education_df.show(5)"
      ]
    },
    {
      "cell_type": "code",
      "execution_count": 10,
      "metadata": {
        "id": "GfcXarJbP2sh"
      },
      "outputs": [],
      "source": [
        "# Configure settings for RDS\n",
        "mode = \"append\"\n",
        "jdbc_url=\"jdbc:postgresql://final-project.cgernf5ijfvg.us-east-1.rds.amazonaws.com/postgres\"\n",
        "config = {\"user\":\"postgres\", \n",
        "          \"password\": \"finalproject1\", \n",
        "          \"driver\":\"org.postgresql.Driver\"}"
      ]
    },
    {
      "cell_type": "code",
      "execution_count": 29,
      "metadata": {
        "id": "Q3NhmKZFQV5f"
      },
      "outputs": [],
      "source": [
        "# salary_by_title_df.write.jdbc(url=jdbc_url, table=\"salary_by_title\", mode=mode, properties=config)"
      ]
    },
    {
      "cell_type": "code",
      "execution_count": null,
      "metadata": {
        "id": "kXCAEk07RLkk"
      },
      "outputs": [],
      "source": [
        "# salary_by_title_and_gender_df.write.jdbc(url=jdbc_url, table=\"salary_by_title_and_gender\", mode=mode, properties=config)"
      ]
    },
    {
      "cell_type": "code",
      "execution_count": null,
      "metadata": {
        "id": "27yL7HYbRVxm"
      },
      "outputs": [],
      "source": [
        "# salary_by_experience_df.write.jdbc(url=jdbc_url, table=\"salary_by_experience\", mode=mode, properties=config)"
      ]
    },
    {
      "cell_type": "code",
      "execution_count": null,
      "metadata": {
        "id": "cbUKazVZRq0D"
      },
      "outputs": [],
      "source": [
        "# salary_by_location_df.write.jdbc(url=jdbc_url, table=\"salary_by_location\", mode=mode, properties=config)"
      ]
    },
    {
      "cell_type": "code",
      "execution_count": null,
      "metadata": {
        "id": "QcZTsZcOR04f"
      },
      "outputs": [],
      "source": [
        "# salary_by_education_df.write.jdbc(url=jdbc_url, table=\"salary_by_education\", mode=mode, properties=config)"
      ]
    },
    {
      "cell_type": "code",
      "source": [
        "salary_info_df.write.jdbc(url=jdbc_url, table=\"Salary_info\", mode=mode, properties=config)\n",
        "salary_info_df.show()"
      ],
      "metadata": {
        "colab": {
          "base_uri": "https://localhost:8080/"
        },
        "id": "VPS_BO9m_Pcq",
        "outputId": "85cc3fc8-2743-4edd-faa7-ab7901cb92f6"
      },
      "execution_count": 16,
      "outputs": [
        {
          "output_type": "stream",
          "name": "stdout",
          "text": [
            "+--------+-----------------+-----------------------+-----------------+--------------+----------+---------------+---------+\n",
            "|      ID|            title|totalyearlycompensation|yearsofexperience|yearsatcompany|basesalary|stockgrantvalue|    bonus|\n",
            "+--------+-----------------+-----------------------+-----------------+--------------+----------+---------------+---------+\n",
            "|FLP00639|Software Engineer|                 125000|              6.0|           3.0|    125000|            0.0|1000000.0|\n",
            "|FLP01034|Software Engineer|                 130000|              2.0|           4.0|    130000|            0.0|      0.0|\n",
            "|FLP01242|  Product Manager|                 150000|              4.0|           4.0|    125000|        10000.0|  15000.0|\n",
            "|FLP01700|Software Engineer|                 180000|              4.0|           4.0|         0|            0.0|      0.0|\n",
            "|FLP01737|Software Engineer|                 215000|              6.0|           5.0|         0|            0.0|      0.0|\n",
            "|FLP01769|Software Engineer|                 146000|              5.0|           4.0|    116000|        20000.0|  10000.0|\n",
            "|FLP01928|Software Engineer|                 112000|              2.0|           2.0|         0|            0.0|      0.0|\n",
            "|FLP01964|Software Engineer|                 175000|              6.0|           6.0|    150000|        10000.0|  15000.0|\n",
            "|FLP02011|Software Engineer|                 160000|              0.0|           0.0|    110000|        40000.0|  11000.0|\n",
            "|FLP02119|  Product Manager|                 490000|             10.0|           1.0|    200000|       250000.0|  40000.0|\n",
            "|FLP02242|Software Engineer|                 664000|             24.0|           1.0|    220000|       400000.0|  44000.0|\n",
            "|FLP02353|Software Engineer|                 500000|              5.0|           5.0|    220000|       214000.0|  66000.0|\n",
            "|FLP02377|Software Engineer|                 208000|              2.0|           2.0|    123000|        67000.0|  18000.0|\n",
            "|FLP02876|Software Engineer|                 150000|              5.0|           1.0|    125000|        15000.0|  15000.0|\n",
            "|FLP03152|Software Engineer|                 102000|              0.0|           0.0|     95000|            0.0|   7000.0|\n",
            "|FLP03252|Software Engineer|                 307000|              7.0|           1.5|    170000|       120000.0|  17000.0|\n",
            "|FLP03366|Software Engineer|                 182000|              8.0|           4.0|    150000|        20000.0|  12000.0|\n",
            "|FLP03488|Software Engineer|                  47000|              3.0|           3.0|     24000|         7000.0|      0.0|\n",
            "|FLP03648|Software Engineer|                 192000|             13.0|           0.0|    160000|        31000.0|      0.0|\n",
            "|FLP03884|Software Engineer|                 300000|              5.0|           3.0|    235000|        50000.0|  15000.0|\n",
            "+--------+-----------------+-----------------------+-----------------+--------------+----------+---------------+---------+\n",
            "only showing top 20 rows\n",
            "\n"
          ]
        }
      ]
    },
    {
      "cell_type": "code",
      "source": [
        "Company_info_df.write.jdbc(url=jdbc_url, table=\"Company_info\", mode=mode, properties=config)\n",
        "Company_info_df"
      ],
      "metadata": {
        "colab": {
          "base_uri": "https://localhost:8080/"
        },
        "id": "b50PACen_Pk4",
        "outputId": "0e1e618d-4d24-4c0f-9b3e-6bb8e93aa70e"
      },
      "execution_count": 14,
      "outputs": [
        {
          "output_type": "execute_result",
          "data": {
            "text/plain": [
              "DataFrame[ID: string, company: string, location: string, cityid: string]"
            ]
          },
          "metadata": {},
          "execution_count": 14
        }
      ]
    },
    {
      "cell_type": "code",
      "source": [
        "Employee_info_df.write.jdbc(url=jdbc_url, table=\"Employee_info\", mode=mode, properties=config)\n",
        "Employee_info_df"
      ],
      "metadata": {
        "colab": {
          "base_uri": "https://localhost:8080/"
        },
        "id": "My5Ukich_Pps",
        "outputId": "9abbd726-d36f-4099-acef-3d44910a038f"
      },
      "execution_count": 15,
      "outputs": [
        {
          "output_type": "execute_result",
          "data": {
            "text/plain": [
              "DataFrame[ID: string, yearsofexperience: double, yearsatcompany: double, gender: string, Masters_Degree: string, Bachelors_Degree: string, Doctorate_Degree: string, Highschool: string]"
            ]
          },
          "metadata": {},
          "execution_count": 15
        }
      ]
    },
    {
      "cell_type": "code",
      "source": [
        "salary_info_df = salary_info_df.alias('salary_info_df')\n",
        "Employee_info_df = Employee_info_df.alias('Employee_info_df')\n",
        "Company_info_df = Company_info_df.alias('Company_info_df')"
      ],
      "metadata": {
        "id": "OQRt2vhGOr0Y"
      },
      "execution_count": 22,
      "outputs": []
    },
    {
      "cell_type": "code",
      "source": [
        "from pyspark.sql.functions import col\n",
        "\n",
        "Joined_df = salary_info_df.join(Employee_info_df, col('salary_info_df.ID') == col('Employee_info_df.ID'), 'inner') \\\n",
        ".join(Company_info_df, col('salary_info_df.ID') == col('Company_info_df.ID'), 'inner') "
      ],
      "metadata": {
        "id": "wH_3wJ7EO8ds"
      },
      "execution_count": 33,
      "outputs": []
    },
    {
      "cell_type": "code",
      "source": [
        "clean_df=Joined_df.drop(\"ID\")"
      ],
      "metadata": {
        "id": "0H3RKMTYAylW"
      },
      "execution_count": 37,
      "outputs": []
    },
    {
      "cell_type": "code",
      "source": [
        "clean_df.show()"
      ],
      "metadata": {
        "colab": {
          "base_uri": "https://localhost:8080/"
        },
        "id": "SKm8sjuVWkf8",
        "outputId": "735b4a44-8ede-447f-fb8d-6e20af1d51e9"
      },
      "execution_count": 38,
      "outputs": [
        {
          "output_type": "stream",
          "name": "stdout",
          "text": [
            "+--------------------+-----------------------+-----------------+--------------+----------+---------------+-------+-----------------+--------------+------+--------------+----------------+----------------+----------+----------+-----------------+------+\n",
            "|               title|totalyearlycompensation|yearsofexperience|yearsatcompany|basesalary|stockgrantvalue|  bonus|yearsofexperience|yearsatcompany|gender|Masters_Degree|Bachelors_Degree|Doctorate_Degree|Highschool|   company|         location|cityid|\n",
            "+--------------------+-----------------------+-----------------+--------------+----------+---------------+-------+-----------------+--------------+------+--------------+----------------+----------------+----------+----------+-----------------+------+\n",
            "|   Software Engineer|                 215000|             15.0|           1.0|    165000|       200000.0|50000.0|             15.0|           1.0|  Male|             0|               0|               0|         0| Microsoft|      Seattle, WA| 11527|\n",
            "|   Software Engineer|                 210000|              4.0|           0.1|    150000|        50000.0|15000.0|              4.0|           0.1|  Male|             0|               0|               0|         0|      Uber|       Denver, CO|  7548|\n",
            "|   Software Engineer|                 150000|              3.0|           1.0|    100000|        40000.0|10000.0|              3.0|           1.0|    NA|             0|               0|               0|         0|    Intuit|San Francisco, CA|  7419|\n",
            "|   Software Engineer|                 380000|             11.0|           6.0|    205000|       100000.0|75000.0|             11.0|           6.0|    NA|             0|               0|               0|         0| Microsoft|    Sunnyvale, CA|  7472|\n",
            "|   Software Engineer|                 280000|              2.0|           2.0|    160000|       100000.0|20000.0|              2.0|           2.0|    NA|             0|               0|               0|         0|      Uber|San Francisco, CA|  7419|\n",
            "|     Product Manager|                 300000|             20.0|           4.0|         0|            0.0|    0.0|             20.0|           4.0|    NA|             0|               0|               0|         0|    Amazon|      Seattle, WA| 11527|\n",
            "|   Software Engineer|                 162000|              1.0|           1.0|         0|            0.0|    0.0|              1.0|           1.0|    NA|             0|               0|               0|         0| Microsoft|      Redmond, WA| 11521|\n",
            "|   Software Engineer|                 200000|             10.0|           2.0|         0|            0.0|    0.0|             10.0|           2.0|    NA|             0|               0|               0|         0|Salesforce|      Seattle, WA| 11527|\n",
            "|   Software Engineer|                 245000|             10.0|           5.0|    215000|            0.0|30000.0|             10.0|           5.0|    NA|             0|               0|               0|         0|     ARUBA|  Santa Clara, CA|  7434|\n",
            "|   Software Engineer|                 500000|             15.0|           3.0|    230000|       270000.0|    0.0|             15.0|           3.0|    NA|             0|               0|               0|         0|    Oracle|      Seattle, WA| 11527|\n",
            "|   Software Engineer|                  99000|             20.0|          18.0|     99000|            0.0|    0.0|             20.0|          18.0|    NA|             0|               0|               0|         0|    Oracle| Redwood City, CA|  7392|\n",
            "|Software Engineer...|                 445000|             20.0|           0.0|    215000|       170000.0|60000.0|             20.0|           0.0|  Male|             0|               0|               0|         0|    Google|Mountain View, CA|  7322|\n",
            "|   Software Engineer|                 440000|             20.0|           1.0|    240000|       200000.0|    0.0|             20.0|           1.0|  Male|             0|               0|               0|         0|    Oracle|      Oakland, CA|  7335|\n",
            "|   Software Engineer|                 320000|              2.0|           2.0|    170000|       125000.0|25000.0|              2.0|           2.0|  Male|             0|               0|               0|         0|     Adobe|     San Jose, CA|  7422|\n",
            "|   Software Engineer|                 233000|              2.0|           2.0|    130000|        80000.0|23000.0|              2.0|           2.0|  Male|             0|               0|               0|         0|    Google|Mountain View, CA|  7322|\n",
            "|     Product Manager|                 185000|              5.0|           0.0|    130000|         5000.0|50000.0|              5.0|           0.0|  Male|             0|               0|               0|         0|    Amazon|      Seattle, WA| 11527|\n",
            "|   Software Engineer|                 250000|              3.0|           3.0|         0|            0.0|    0.0|              3.0|           3.0|Female|             0|               0|               0|         0|     Apple|    Cupertino, CA|  7158|\n",
            "|   Software Engineer|                  78000|              0.0|           0.0|         0|            0.0|10000.0|              0.0|           0.0|Female|             0|               0|               0|         0|  T-Mobile|      Bothell, WA| 11981|\n",
            "|   Software Engineer|                 265000|              1.0|           0.0|    160000|        75000.0|30000.0|              1.0|           0.0|  Male|             0|               0|               0|         0|  Facebook|   Menlo Park, CA|  7300|\n",
            "|   Software Engineer|                 200000|              2.0|           2.0|         0|            0.0|    0.0|              2.0|           2.0|    NA|             0|               0|               0|         0|     amzon|      Seattle, WA| 11527|\n",
            "+--------------------+-----------------------+-----------------+--------------+----------+---------------+-------+-----------------+--------------+------+--------------+----------------+----------------+----------+----------+-----------------+------+\n",
            "only showing top 20 rows\n",
            "\n"
          ]
        }
      ]
    },
    {
      "cell_type": "code",
      "source": [
        ""
      ],
      "metadata": {
        "id": "zQRJoHGDW8nx"
      },
      "execution_count": null,
      "outputs": []
    }
  ],
  "metadata": {
    "colab": {
      "collapsed_sections": [],
      "name": "data_tablemerge.ipynb",
      "provenance": []
    },
    "kernelspec": {
      "display_name": "Python 3 (ipykernel)",
      "language": "python",
      "name": "python3"
    },
    "language_info": {
      "codemirror_mode": {
        "name": "ipython",
        "version": 3
      },
      "file_extension": ".py",
      "mimetype": "text/x-python",
      "name": "python",
      "nbconvert_exporter": "python",
      "pygments_lexer": "ipython3",
      "version": "3.8.8"
    }
  },
  "nbformat": 4,
  "nbformat_minor": 0
}