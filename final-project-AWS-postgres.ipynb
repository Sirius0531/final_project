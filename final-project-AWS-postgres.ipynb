{
 "cells": [
  {
   "cell_type": "code",
   "execution_count": 2,
   "metadata": {
    "colab": {
     "base_uri": "https://localhost:8080/"
    },
    "executionInfo": {
     "elapsed": 41807,
     "status": "ok",
     "timestamp": 1647743085111,
     "user": {
      "displayName": "Stessy Iriho",
      "photoUrl": "https://lh3.googleusercontent.com/a/default-user=s64",
      "userId": "17002776893589228294"
     },
     "user_tz": 300
    },
    "id": "oBs7i5MhIvRe",
    "outputId": "7b56b222-5b3b-4724-a028-09bed9460b23",
    "scrolled": true
   },
   "outputs": [
    {
     "name": "stdout",
     "output_type": "stream",
     "text": [
      "/bin/bash: apt-get: command not found\n",
      "/bin/bash: apt-get: command not found\n",
      "/bin/bash: wget: command not found\n",
      "tar: Error opening archive: Failed to open 'spark-3.0.3-bin-hadoop2.7.tgz'\n"
     ]
    },
    {
     "ename": "Exception",
     "evalue": "Unable to find py4j in /content/spark-3.0.3-bin-hadoop2.7/python, your SPARK_HOME may not be configured correctly",
     "output_type": "error",
     "traceback": [
      "\u001b[0;31m---------------------------------------------------------------------------\u001b[0m",
      "\u001b[0;31mIndexError\u001b[0m                                Traceback (most recent call last)",
      "\u001b[0;32m~/opt/anaconda3/lib/python3.8/site-packages/findspark.py\u001b[0m in \u001b[0;36minit\u001b[0;34m(spark_home, python_path, edit_rc, edit_profile)\u001b[0m\n\u001b[1;32m    158\u001b[0m         \u001b[0;32mtry\u001b[0m\u001b[0;34m:\u001b[0m\u001b[0;34m\u001b[0m\u001b[0;34m\u001b[0m\u001b[0m\n\u001b[0;32m--> 159\u001b[0;31m             \u001b[0mpy4j\u001b[0m \u001b[0;34m=\u001b[0m \u001b[0mglob\u001b[0m\u001b[0;34m(\u001b[0m\u001b[0mos\u001b[0m\u001b[0;34m.\u001b[0m\u001b[0mpath\u001b[0m\u001b[0;34m.\u001b[0m\u001b[0mjoin\u001b[0m\u001b[0;34m(\u001b[0m\u001b[0mspark_python\u001b[0m\u001b[0;34m,\u001b[0m \u001b[0;34m\"lib\"\u001b[0m\u001b[0;34m,\u001b[0m \u001b[0;34m\"py4j-*.zip\"\u001b[0m\u001b[0;34m)\u001b[0m\u001b[0;34m)\u001b[0m\u001b[0;34m[\u001b[0m\u001b[0;36m0\u001b[0m\u001b[0;34m]\u001b[0m\u001b[0;34m\u001b[0m\u001b[0;34m\u001b[0m\u001b[0m\n\u001b[0m\u001b[1;32m    160\u001b[0m         \u001b[0;32mexcept\u001b[0m \u001b[0mIndexError\u001b[0m\u001b[0;34m:\u001b[0m\u001b[0;34m\u001b[0m\u001b[0;34m\u001b[0m\u001b[0m\n",
      "\u001b[0;31mIndexError\u001b[0m: list index out of range",
      "\nDuring handling of the above exception, another exception occurred:\n",
      "\u001b[0;31mException\u001b[0m                                 Traceback (most recent call last)",
      "\u001b[0;32m/var/folders/cm/t6n1x7x11t3gyln292gfr3300000gn/T/ipykernel_12036/3126949024.py\u001b[0m in \u001b[0;36m<module>\u001b[0;34m\u001b[0m\n\u001b[1;32m     20\u001b[0m \u001b[0;31m# Start a SparkSession\u001b[0m\u001b[0;34m\u001b[0m\u001b[0;34m\u001b[0m\u001b[0;34m\u001b[0m\u001b[0m\n\u001b[1;32m     21\u001b[0m \u001b[0;32mimport\u001b[0m \u001b[0mfindspark\u001b[0m\u001b[0;34m\u001b[0m\u001b[0;34m\u001b[0m\u001b[0m\n\u001b[0;32m---> 22\u001b[0;31m \u001b[0mfindspark\u001b[0m\u001b[0;34m.\u001b[0m\u001b[0minit\u001b[0m\u001b[0;34m(\u001b[0m\u001b[0;34m)\u001b[0m\u001b[0;34m\u001b[0m\u001b[0;34m\u001b[0m\u001b[0m\n\u001b[0m",
      "\u001b[0;32m~/opt/anaconda3/lib/python3.8/site-packages/findspark.py\u001b[0m in \u001b[0;36minit\u001b[0;34m(spark_home, python_path, edit_rc, edit_profile)\u001b[0m\n\u001b[1;32m    159\u001b[0m             \u001b[0mpy4j\u001b[0m \u001b[0;34m=\u001b[0m \u001b[0mglob\u001b[0m\u001b[0;34m(\u001b[0m\u001b[0mos\u001b[0m\u001b[0;34m.\u001b[0m\u001b[0mpath\u001b[0m\u001b[0;34m.\u001b[0m\u001b[0mjoin\u001b[0m\u001b[0;34m(\u001b[0m\u001b[0mspark_python\u001b[0m\u001b[0;34m,\u001b[0m \u001b[0;34m\"lib\"\u001b[0m\u001b[0;34m,\u001b[0m \u001b[0;34m\"py4j-*.zip\"\u001b[0m\u001b[0;34m)\u001b[0m\u001b[0;34m)\u001b[0m\u001b[0;34m[\u001b[0m\u001b[0;36m0\u001b[0m\u001b[0;34m]\u001b[0m\u001b[0;34m\u001b[0m\u001b[0;34m\u001b[0m\u001b[0m\n\u001b[1;32m    160\u001b[0m         \u001b[0;32mexcept\u001b[0m \u001b[0mIndexError\u001b[0m\u001b[0;34m:\u001b[0m\u001b[0;34m\u001b[0m\u001b[0;34m\u001b[0m\u001b[0m\n\u001b[0;32m--> 161\u001b[0;31m             raise Exception(\n\u001b[0m\u001b[1;32m    162\u001b[0m                 \"Unable to find py4j in {}, your SPARK_HOME may not be configured correctly\".format(\n\u001b[1;32m    163\u001b[0m                     \u001b[0mspark_python\u001b[0m\u001b[0;34m\u001b[0m\u001b[0;34m\u001b[0m\u001b[0m\n",
      "\u001b[0;31mException\u001b[0m: Unable to find py4j in /content/spark-3.0.3-bin-hadoop2.7/python, your SPARK_HOME may not be configured correctly"
     ]
    }
   ],
   "source": [
    "import os\n",
    "# Find the latest version of spark 3.0 from http://www.apache.org/dist/spark/ and enter as the spark version\n",
    "# For example:\n",
    "# spark_version = 'spark-3.0.3'\n",
    "spark_version = 'spark-3.0.3'\n",
    "os.environ['SPARK_VERSION']=spark_version\n",
    "\n",
    "# Install Spark and Java\n",
    "#!apt-get update\n",
    "!apt-get install openjdk-11-jdk-headless -qq > /dev/null\n",
    "!wget -q http://www.apache.org/dist/spark/$SPARK_VERSION/$SPARK_VERSION-bin-hadoop2.7.tgz\n",
    "!tar xf $SPARK_VERSION-bin-hadoop2.7.tgz\n",
    "!pip install -q findspark\n",
    "\n",
    "# Set Environment Variables\n",
    "import os\n",
    "os.environ[\"JAVA_HOME\"] = \"/usr/lib/jvm/java-11-openjdk-amd64\"\n",
    "os.environ[\"SPARK_HOME\"] = f\"/content/{spark_version}-bin-hadoop2.7\"\n",
    "\n",
    "# Start a SparkSession\n",
    "import findspark\n",
    "findspark.init()"
   ]
  },
  {
   "cell_type": "code",
   "execution_count": 1,
   "metadata": {
    "colab": {
     "base_uri": "https://localhost:8080/"
    },
    "executionInfo": {
     "elapsed": 1881,
     "status": "ok",
     "timestamp": 1647743111358,
     "user": {
      "displayName": "Stessy Iriho",
      "photoUrl": "https://lh3.googleusercontent.com/a/default-user=s64",
      "userId": "17002776893589228294"
     },
     "user_tz": 300
    },
    "id": "EeJUFKDfJFSH",
    "outputId": "74d2e03a-7c4e-4644-e429-af78d4afaf72"
   },
   "outputs": [
    {
     "name": "stdout",
     "output_type": "stream",
     "text": [
      "/bin/bash: wget: command not found\r\n"
     ]
    }
   ],
   "source": [
    "# Download the Postgres driver that will allow Spark to interact with Postgres.\n",
    "!wget https://jdbc.postgresql.org/download/postgresql-42.2.16.jar"
   ]
  },
  {
   "cell_type": "code",
   "execution_count": 3,
   "metadata": {
    "executionInfo": {
     "elapsed": 8565,
     "status": "ok",
     "timestamp": 1647743151948,
     "user": {
      "displayName": "Stessy Iriho",
      "photoUrl": "https://lh3.googleusercontent.com/a/default-user=s64",
      "userId": "17002776893589228294"
     },
     "user_tz": 300
    },
    "id": "4qmJd3i-JJjf"
   },
   "outputs": [],
   "source": [
    "from pyspark.sql import SparkSession\n",
    "spark = SparkSession.builder.appName(\"CloudETL\").config(\"spark.driver.extraClassPath\",\"/content/postgresql-42.2.16.jar\").getOrCreate()\n"
   ]
  },
  {
   "cell_type": "code",
   "execution_count": 4,
   "metadata": {
    "executionInfo": {
     "elapsed": 10109,
     "status": "ok",
     "timestamp": 1647743231522,
     "user": {
      "displayName": "Stessy Iriho",
      "photoUrl": "https://lh3.googleusercontent.com/a/default-user=s64",
      "userId": "17002776893589228294"
     },
     "user_tz": 300
    },
    "id": "WL9ypBD_JUfI"
   },
   "outputs": [],
   "source": [
    "# Read in data from S3 Buckets\n",
    "from pyspark import SparkFiles\n",
    "url =\"https://data-finalproject.s3.amazonaws.com/Levels_Fyi_cleaned1.csv\"\n",
    "spark.sparkContext.addFile(url)\n",
    "df = spark.read.csv(SparkFiles.get(\"\"), sep=\",\", header=True, inferSchema=True)"
   ]
  },
  {
   "cell_type": "code",
   "execution_count": 5,
   "metadata": {
    "colab": {
     "base_uri": "https://localhost:8080/"
    },
    "executionInfo": {
     "elapsed": 998,
     "status": "ok",
     "timestamp": 1647743248143,
     "user": {
      "displayName": "Stessy Iriho",
      "photoUrl": "https://lh3.googleusercontent.com/a/default-user=s64",
      "userId": "17002776893589228294"
     },
     "user_tz": 300
    },
    "id": "c55GUhxWJokr",
    "outputId": "4a450c3d-d334-4005-b04e-e0e09c1044fb"
   },
   "outputs": [
    {
     "name": "stdout",
     "output_type": "stream",
     "text": [
      "+--------------+---------+-----------------+-----------------------+------+--------------+----------------+-----+-------------+\n",
      "|         title|  company|yearsofexperience|totalyearlycompensation|gender|Masters_Degree|Bachelors_Degree|state|         city|\n",
      "+--------------+---------+-----------------+-----------------------+------+--------------+----------------+-----+-------------+\n",
      "|Data Scientist| LinkedIn|              4.0|                 233000|  Male|             0|               0|   CA|San Francisco|\n",
      "|Data Scientist|Microsoft|             11.0|                 218000|  Male|             0|               0|   WA|      Seattle|\n",
      "|Data Scientist|     ebay|             10.0|                 180000|Female|             0|               0|   CA|     San Jose|\n",
      "|Data Scientist|  Twitter|              4.0|                 500000|  Male|             0|               0|   CA|San Francisco|\n",
      "|Data Scientist| Facebook|              8.0|                 370000|  Male|             0|               0|   WA|      Seattle|\n",
      "+--------------+---------+-----------------+-----------------------+------+--------------+----------------+-----+-------------+\n",
      "only showing top 5 rows\n",
      "\n"
     ]
    }
   ],
   "source": [
    "df.show(5)"
   ]
  },
  {
   "cell_type": "code",
   "execution_count": 9,
   "metadata": {
    "colab": {
     "base_uri": "https://localhost:8080/"
    },
    "executionInfo": {
     "elapsed": 6,
     "status": "ok",
     "timestamp": 1647744066661,
     "user": {
      "displayName": "Stessy Iriho",
      "photoUrl": "https://lh3.googleusercontent.com/a/default-user=s64",
      "userId": "17002776893589228294"
     },
     "user_tz": 300
    },
    "id": "zewsDaHdMw2u",
    "outputId": "19ab8828-deac-419b-c709-8f045d2334b7"
   },
   "outputs": [
    {
     "data": {
      "text/plain": [
       "[('title', 'string'),\n",
       " ('company', 'string'),\n",
       " ('yearsofexperience', 'double'),\n",
       " ('totalyearlycompensation', 'int'),\n",
       " ('gender', 'string'),\n",
       " ('Masters_Degree', 'int'),\n",
       " ('Bachelors_Degree', 'int'),\n",
       " ('state', 'string'),\n",
       " ('city', 'string')]"
      ]
     },
     "execution_count": 9,
     "metadata": {},
     "output_type": "execute_result"
    }
   ],
   "source": [
    "df.dtypes"
   ]
  },
  {
   "cell_type": "code",
   "execution_count": 10,
   "metadata": {
    "colab": {
     "base_uri": "https://localhost:8080/"
    },
    "executionInfo": {
     "elapsed": 595,
     "status": "ok",
     "timestamp": 1647744462177,
     "user": {
      "displayName": "Stessy Iriho",
      "photoUrl": "https://lh3.googleusercontent.com/a/default-user=s64",
      "userId": "17002776893589228294"
     },
     "user_tz": 300
    },
    "id": "dTRMufKEJu9y",
    "outputId": "a45a5648-b710-4136-f2d4-e83b83c75ac4"
   },
   "outputs": [
    {
     "name": "stdout",
     "output_type": "stream",
     "text": [
      "+--------------+-----------------------+\n",
      "|         title|totalyearlycompensation|\n",
      "+--------------+-----------------------+\n",
      "|Data Scientist|                 123000|\n",
      "|Data Scientist|                 269000|\n",
      "|Data Scientist|                 244000|\n",
      "|Data Scientist|                  15000|\n",
      "|Data Scientist|                 218000|\n",
      "+--------------+-----------------------+\n",
      "only showing top 5 rows\n",
      "\n"
     ]
    }
   ],
   "source": [
    "salary_by_title_df = df.select(['title', 'totalyearlycompensation']).drop_duplicates()\n",
    "salary_by_title_df.show(5)"
   ]
  },
  {
   "cell_type": "code",
   "execution_count": 13,
   "metadata": {
    "colab": {
     "base_uri": "https://localhost:8080/"
    },
    "executionInfo": {
     "elapsed": 767,
     "status": "ok",
     "timestamp": 1647744657155,
     "user": {
      "displayName": "Stessy Iriho",
      "photoUrl": "https://lh3.googleusercontent.com/a/default-user=s64",
      "userId": "17002776893589228294"
     },
     "user_tz": 300
    },
    "id": "CfM_VCkvOhb1",
    "outputId": "ad3838ef-28f3-4425-ea17-60da04e3365c"
   },
   "outputs": [
    {
     "name": "stdout",
     "output_type": "stream",
     "text": [
      "+--------------+-----------------------+------+\n",
      "|         title|totalyearlycompensation|gender|\n",
      "+--------------+-----------------------+------+\n",
      "|Data Scientist|                 182000|  Male|\n",
      "|Data Scientist|                 123000|  null|\n",
      "|Data Scientist|                 241000|  Male|\n",
      "|Data Scientist|                 115000|  Male|\n",
      "|Data Scientist|                 900000|  Male|\n",
      "+--------------+-----------------------+------+\n",
      "only showing top 5 rows\n",
      "\n"
     ]
    }
   ],
   "source": [
    "salary_by_title_and_gender_df = df.select(['title', 'totalyearlycompensation', 'gender']).drop_duplicates()\n",
    "salary_by_title_and_gender_df.show(5)"
   ]
  },
  {
   "cell_type": "code",
   "execution_count": 14,
   "metadata": {
    "colab": {
     "base_uri": "https://localhost:8080/"
    },
    "executionInfo": {
     "elapsed": 678,
     "status": "ok",
     "timestamp": 1647744790349,
     "user": {
      "displayName": "Stessy Iriho",
      "photoUrl": "https://lh3.googleusercontent.com/a/default-user=s64",
      "userId": "17002776893589228294"
     },
     "user_tz": 300
    },
    "id": "RsAbOqC6PM6U",
    "outputId": "8250c36c-1ed3-42e6-d80b-d8ce57632f83"
   },
   "outputs": [
    {
     "name": "stdout",
     "output_type": "stream",
     "text": [
      "+--------------+-----------------+-----------------------+\n",
      "|         title|yearsofexperience|totalyearlycompensation|\n",
      "+--------------+-----------------+-----------------------+\n",
      "|Data Scientist|              4.0|                 206000|\n",
      "|Data Scientist|              5.0|                 306000|\n",
      "|Data Scientist|             15.0|                 248000|\n",
      "|Data Scientist|             13.0|                 187000|\n",
      "|Data Scientist|              6.0|                 156000|\n",
      "+--------------+-----------------+-----------------------+\n",
      "only showing top 5 rows\n",
      "\n"
     ]
    }
   ],
   "source": [
    "salary_by_experience_df = df.select(['title', 'yearsofexperience', 'totalyearlycompensation']).drop_duplicates()\n",
    "salary_by_experience_df.show(5)"
   ]
  },
  {
   "cell_type": "code",
   "execution_count": 15,
   "metadata": {
    "colab": {
     "base_uri": "https://localhost:8080/"
    },
    "executionInfo": {
     "elapsed": 838,
     "status": "ok",
     "timestamp": 1647744848073,
     "user": {
      "displayName": "Stessy Iriho",
      "photoUrl": "https://lh3.googleusercontent.com/a/default-user=s64",
      "userId": "17002776893589228294"
     },
     "user_tz": 300
    },
    "id": "WOOziEMYPjyF",
    "outputId": "29b82561-75e9-4a65-b873-e035d9a61108"
   },
   "outputs": [
    {
     "name": "stdout",
     "output_type": "stream",
     "text": [
      "+--------------+-----+-------------+-----------------------+\n",
      "|         title|state|         city|totalyearlycompensation|\n",
      "+--------------+-----+-------------+-----------------------+\n",
      "|Data Scientist|   CA|    San Ramon|                 142000|\n",
      "|Data Scientist|   CA|    Sunnyvale|                 130000|\n",
      "|Data Scientist|   WA|      Redmond|                 320000|\n",
      "|Data Scientist|   NY|     New York|                 284000|\n",
      "|Data Scientist|   CA|San Francisco|                 285000|\n",
      "+--------------+-----+-------------+-----------------------+\n",
      "only showing top 5 rows\n",
      "\n"
     ]
    }
   ],
   "source": [
    "salary_by_location_df = df.select(['title', 'state', 'city', 'totalyearlycompensation']).drop_duplicates()\n",
    "salary_by_location_df.show(5)"
   ]
  },
  {
   "cell_type": "code",
   "execution_count": 11,
   "metadata": {
    "colab": {
     "base_uri": "https://localhost:8080/"
    },
    "executionInfo": {
     "elapsed": 876,
     "status": "ok",
     "timestamp": 1647744515073,
     "user": {
      "displayName": "Stessy Iriho",
      "photoUrl": "https://lh3.googleusercontent.com/a/default-user=s64",
      "userId": "17002776893589228294"
     },
     "user_tz": 300
    },
    "id": "-cy6bw67Jvoa",
    "outputId": "e28c4b74-167f-4847-eab0-c3c914dc383a"
   },
   "outputs": [
    {
     "name": "stdout",
     "output_type": "stream",
     "text": [
      "+--------------+--------------+----------------+-----------------------+\n",
      "|         title|Masters_Degree|Bachelors_Degree|totalyearlycompensation|\n",
      "+--------------+--------------+----------------+-----------------------+\n",
      "|Data Scientist|             0|               0|                 235000|\n",
      "|Data Scientist|             0|               0|                 325000|\n",
      "|Data Scientist|             0|               0|                 141000|\n",
      "|Data Scientist|             1|               0|                 108000|\n",
      "|Data Scientist|             1|               0|                 390000|\n",
      "+--------------+--------------+----------------+-----------------------+\n",
      "only showing top 5 rows\n",
      "\n"
     ]
    }
   ],
   "source": [
    "salary_by_education_df = df.select(['title', 'Masters_Degree', 'Bachelors_Degree', 'totalyearlycompensation']).drop_duplicates()\n",
    "salary_by_education_df.show(5)"
   ]
  },
  {
   "cell_type": "code",
   "execution_count": 16,
   "metadata": {
    "executionInfo": {
     "elapsed": 263,
     "status": "ok",
     "timestamp": 1647744996980,
     "user": {
      "displayName": "Stessy Iriho",
      "photoUrl": "https://lh3.googleusercontent.com/a/default-user=s64",
      "userId": "17002776893589228294"
     },
     "user_tz": 300
    },
    "id": "GfcXarJbP2sh"
   },
   "outputs": [],
   "source": [
    "# Configure settings for RDS\n",
    "mode = \"append\"\n",
    "jdbc_url=\"jdbc:postgresql://final-project.cgernf5ijfvg.us-east-1.rds.amazonaws.com/postgres\"\n",
    "config = {\"user\":\"postgres\", \n",
    "          \"password\": \"finalproject1\", \n",
    "          \"driver\":\"org.postgresql.Driver\"}"
   ]
  },
  {
   "cell_type": "code",
   "execution_count": 18,
   "metadata": {
    "executionInfo": {
     "elapsed": 259559,
     "status": "ok",
     "timestamp": 1647745404462,
     "user": {
      "displayName": "Stessy Iriho",
      "photoUrl": "https://lh3.googleusercontent.com/a/default-user=s64",
      "userId": "17002776893589228294"
     },
     "user_tz": 300
    },
    "id": "Q3NhmKZFQV5f"
   },
   "outputs": [],
   "source": [
    "salary_by_title_df.write.jdbc(url=jdbc_url, table=\"salary_by_title\", mode=mode, properties=config)"
   ]
  },
  {
   "cell_type": "code",
   "execution_count": 19,
   "metadata": {
    "executionInfo": {
     "elapsed": 271406,
     "status": "ok",
     "timestamp": 1647745714949,
     "user": {
      "displayName": "Stessy Iriho",
      "photoUrl": "https://lh3.googleusercontent.com/a/default-user=s64",
      "userId": "17002776893589228294"
     },
     "user_tz": 300
    },
    "id": "kXCAEk07RLkk"
   },
   "outputs": [],
   "source": [
    "salary_by_title_and_gender_df.write.jdbc(url=jdbc_url, table=\"salary_by_title_and_gender\", mode=mode, properties=config)"
   ]
  },
  {
   "cell_type": "code",
   "execution_count": 20,
   "metadata": {
    "executionInfo": {
     "elapsed": 274030,
     "status": "ok",
     "timestamp": 1647745992675,
     "user": {
      "displayName": "Stessy Iriho",
      "photoUrl": "https://lh3.googleusercontent.com/a/default-user=s64",
      "userId": "17002776893589228294"
     },
     "user_tz": 300
    },
    "id": "27yL7HYbRVxm"
   },
   "outputs": [],
   "source": [
    "salary_by_experience_df.write.jdbc(url=jdbc_url, table=\"salary_by_experience\", mode=mode, properties=config)"
   ]
  },
  {
   "cell_type": "code",
   "execution_count": 21,
   "metadata": {
    "executionInfo": {
     "elapsed": 274740,
     "status": "ok",
     "timestamp": 1647746272547,
     "user": {
      "displayName": "Stessy Iriho",
      "photoUrl": "https://lh3.googleusercontent.com/a/default-user=s64",
      "userId": "17002776893589228294"
     },
     "user_tz": 300
    },
    "id": "cbUKazVZRq0D"
   },
   "outputs": [],
   "source": [
    "salary_by_location_df.write.jdbc(url=jdbc_url, table=\"salary_by_location\", mode=mode, properties=config)"
   ]
  },
  {
   "cell_type": "code",
   "execution_count": 22,
   "metadata": {
    "executionInfo": {
     "elapsed": 268942,
     "status": "ok",
     "timestamp": 1647746564162,
     "user": {
      "displayName": "Stessy Iriho",
      "photoUrl": "https://lh3.googleusercontent.com/a/default-user=s64",
      "userId": "17002776893589228294"
     },
     "user_tz": 300
    },
    "id": "QcZTsZcOR04f"
   },
   "outputs": [],
   "source": [
    "salary_by_education_df.write.jdbc(url=jdbc_url, table=\"salary_by_education\", mode=mode, properties=config)"
   ]
  }
 ],
 "metadata": {
  "colab": {
   "authorship_tag": "ABX9TyOfJZZa4VM3F1g6cKWOHhPG",
   "collapsed_sections": [],
   "name": "Untitled4.ipynb",
   "provenance": []
  },
  "kernelspec": {
   "display_name": "Python 3 (ipykernel)",
   "language": "python",
   "name": "python3"
  },
  "language_info": {
   "codemirror_mode": {
    "name": "ipython",
    "version": 3
   },
   "file_extension": ".py",
   "mimetype": "text/x-python",
   "name": "python",
   "nbconvert_exporter": "python",
   "pygments_lexer": "ipython3",
   "version": "3.8.8"
  }
 },
 "nbformat": 4,
 "nbformat_minor": 1
}
